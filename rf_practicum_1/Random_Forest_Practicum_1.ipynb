{
 "cells": [
  {
   "cell_type": "markdown",
   "metadata": {},
   "source": [
    "# DSCI6003 Practicum I: Decision Trees & Random Forests\n",
    "\n",
    "Your study of tree classifiers begins with random forests. \n",
    "\n",
    "In order to build a random forest you must first master building decision trees.\n",
    "\n",
    "1. Start with getting a complete implementation using the annotated code stub DecisionTree.py and TreeNode.py provided to you in the /code directory. \n",
    "\n",
    "2. Use the run_decision_tree.py and test_decision_tree.py code stubs (with the command line) to ensure that your construction is correct. Use pycharm or sublime for a develop environment.\n",
    "\n",
    "3. Once your tree is capable of producing correct results, continue with the RandomForest.py stub. This will be discussed in more detail in a later class.\n",
    "\n",
    "4. You can check your performance of the forest and trees against the setup of the executable main program in the /code/ directory."
   ]
  },
  {
   "cell_type": "code",
   "execution_count": null,
   "metadata": {
    "collapsed": true
   },
   "outputs": [],
   "source": []
  }
 ],
 "metadata": {
  "anaconda-cloud": {},
  "kernelspec": {
   "display_name": "Python [conda root]",
   "language": "python",
   "name": "conda-root-py"
  },
  "language_info": {
   "codemirror_mode": {
    "name": "ipython",
    "version": 3
   },
   "file_extension": ".py",
   "mimetype": "text/x-python",
   "name": "python",
   "nbconvert_exporter": "python",
   "pygments_lexer": "ipython3",
   "version": "3.5.2"
  }
 },
 "nbformat": 4,
 "nbformat_minor": 0
}
